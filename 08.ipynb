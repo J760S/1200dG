{
 "cells": [
  {
   "cell_type": "code",
   "execution_count": 1,
   "metadata": {},
   "outputs": [
    {
     "name": "stdout",
     "output_type": "stream",
     "text": [
      "\t\tRealized by João Santos :)        [PRESS ENTER]\n",
      "\tPassword Lenght: 3\n",
      "\n",
      "\tPassword strength from 1 to 3: 3\n",
      "\n",
      "\t\tYour password is:  AMH\n",
      "\n",
      "\tDo you want to repeat the process(y/n)?\n",
      "\t\t\t\tAnswer: n\n",
      "\n",
      "\t\tExiting the program...\n"
     ]
    }
   ],
   "source": [
    "from random import choice\n",
    "\n",
    "lowercase=\"abcdefghijlmnopqrstuvxz\"\n",
    "uppercase= lowercase.upper()\n",
    "numbers=\"0123456789\"\n",
    "special=\"|!\\$%&/*+~\"\n",
    "\n",
    "l=input(\"\\t\\tRealized by João Santos :)        [PRESS ENTER]\")\n",
    "\n",
    "while True:\n",
    "    def password_generator(strength, length):\n",
    "        password= \"\"\n",
    "        if strength >=1:\n",
    "            if strength==1:\n",
    "                    new_char_set = lowercase\n",
    "            elif strength==2:\n",
    "                    new_char_set = lowercase+uppercase+numbers\n",
    "            elif strength>=3:\n",
    "                    new_char_set = lowercase+uppercase+numbers+special\n",
    "            elif strength<1:\n",
    "                    print(\"You crazy, you can't have a strength of\", s)\n",
    "       \n",
    "            for n in range(length):\n",
    "                password+=choice(new_char_set)\n",
    "            return password\n",
    "        else:\n",
    "            k= print(\"\\n\\t\\tYou crazy, you can't have a strength of\", s)\n",
    "            return k\n",
    "    \n",
    "    r=int(input(\"\\tPassword Lenght: \"))    \n",
    "    s=int(input(\"\\n\\tPassword strength from 1 to 3: \"))\n",
    "    \n",
    "    print(\"\\n\\t\\tYour password is: \", password_generator(strength=s, length=r))\n",
    "\n",
    "    if input(\"\\n\\tDo you want to repeat the process(y/n)?\\n\\t\\t\\t\\tAnswer: \") ==\"n\":\n",
    "        print(\"\\n\\t\\tExiting the program...\")\n",
    "        break\n",
    "    "
   ]
  },
  {
   "cell_type": "code",
   "execution_count": 2,
   "metadata": {},
   "outputs": [
    {
     "name": "stdout",
     "output_type": "stream",
     "text": [
      "\t\tRealized by João Santos :)        [PRESS ENTER]\n",
      "\tPassword Lenght: 3\n",
      "\n",
      "\tPassword strength from 1 to 3: 3\n",
      "\n",
      "\t\tYour password is:  Eo|\n",
      "\n",
      "\tDo you want to repeat the process(y/n)?\n",
      "\t\t\t\tAnswer: y\n",
      "\tPassword Lenght: 3\n",
      "\n",
      "\tPassword strength from 1 to 3: 3\n",
      "\n",
      "\t\tYour password is:  oHn\n",
      "\n",
      "\tDo you want to repeat the process(y/n)?\n",
      "\t\t\t\tAnswer: n\n",
      "\n",
      "\t\tExiting the program...\n"
     ]
    }
   ],
   "source": [
    "from random import choice\n",
    "\n",
    "lowercase=\"abcdefghijlmnopqrstuvxz\"\n",
    "uppercase= lowercase.upper()\n",
    "numbers=\"0123456789\"\n",
    "special=\"|!\\$%&/*+~\"\n",
    "lol=\"y\"\n",
    "\n",
    "l=input(\"\\t\\tRealized by João Santos :)        [PRESS ENTER]\")\n",
    "\n",
    "while lol != \"n\":\n",
    "    def password_generator(strength, length):\n",
    "        password= \"\"\n",
    "        if strength >=1:\n",
    "            if strength==1:\n",
    "                    new_char_set = lowercase\n",
    "            elif strength==2:\n",
    "                    new_char_set = lowercase+uppercase+numbers\n",
    "            elif strength>=3:\n",
    "                    new_char_set = lowercase+uppercase+numbers+special\n",
    "            elif strength<1:\n",
    "                    print(\"You crazy, you can't have a strength of\", s)\n",
    "       \n",
    "            for n in range(length):\n",
    "                password+=choice(new_char_set)\n",
    "            return password\n",
    "        else:\n",
    "            k= print(\"\\n\\t\\tYou crazy, you can't have a strength of\", s)\n",
    "            return k\n",
    "    \n",
    "    r=int(input(\"\\tPassword Lenght: \"))    \n",
    "    s=int(input(\"\\n\\tPassword strength from 1 to 3: \"))\n",
    "    \n",
    "    print(\"\\n\\t\\tYour password is: \", password_generator(strength=s, length=r))\n",
    "\n",
    "    lol = input(\"\\n\\tDo you want to repeat the process(y/n)?\\n\\t\\t\\t\\tAnswer: \")\n",
    "    if lol ==\"n\":\n",
    "        print(\"\\n\\t\\tExiting the program...\")\n",
    "        \n",
    "    \n",
    "\n",
    "\n",
    "\n",
    "\n",
    "\n"
   ]
  },
  {
   "cell_type": "code",
   "execution_count": null,
   "metadata": {},
   "outputs": [],
   "source": []
  }
 ],
 "metadata": {
  "kernelspec": {
   "display_name": "Python 3",
   "language": "python",
   "name": "python3"
  },
  "language_info": {
   "codemirror_mode": {
    "name": "ipython",
    "version": 3
   },
   "file_extension": ".py",
   "mimetype": "text/x-python",
   "name": "python",
   "nbconvert_exporter": "python",
   "pygments_lexer": "ipython3",
   "version": "3.6.5"
  }
 },
 "nbformat": 4,
 "nbformat_minor": 2
}
