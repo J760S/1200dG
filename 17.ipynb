{
 "cells": [
  {
   "cell_type": "code",
   "execution_count": null,
   "metadata": {},
   "outputs": [],
   "source": [
    "l = [2, 4, 6, 8, 10]\n",
    "\n",
    "def find(ordered_list, element_to_find):\n",
    "    for element in ordered_list:\n",
    "        if element == element_to_find:\n",
    "            return True\n",
    "    return False\n",
    "   # if __name__==\"__main__\":\n",
    "    \n",
    "print(find(l, 5)) # prints False\n",
    "print(find(l, 10)) # prints True\n",
    "print(find(l, -1)) # prints False\n",
    "print(find(l, 2)) # prints True"
   ]
  }
 ],
 "metadata": {
  "kernelspec": {
   "display_name": "Python 3",
   "language": "python",
   "name": "python3"
  },
  "language_info": {
   "codemirror_mode": {
    "name": "ipython",
    "version": 3
   },
   "file_extension": ".py",
   "mimetype": "text/x-python",
   "name": "python",
   "nbconvert_exporter": "python",
   "pygments_lexer": "ipython3",
   "version": "3.6.5"
  }
 },
 "nbformat": 4,
 "nbformat_minor": 2
}
