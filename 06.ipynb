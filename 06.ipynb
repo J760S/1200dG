{
 "cells": [
  {
   "cell_type": "code",
   "execution_count": 1,
   "metadata": {},
   "outputs": [
    {
     "name": "stdout",
     "output_type": "stream",
     "text": [
      "Normal\n"
     ]
    }
   ],
   "source": [
    "def calculate_bmi(weight, height):\n",
    "    bmi= weight/(height**2)\n",
    "    if bmi < 18.5:\n",
    "        return \"underweight\"\n",
    "    elif 18.5 < bmi < 24.9:\n",
    "        return \"Normal\"\n",
    "    elif (bmi<=29.9) and (bmi>=25):\n",
    "        return \"overweight\"\n",
    "    elif 29.9 < bmi :\n",
    "        return \"very overweight\"\n",
    "print(calculate_bmi(70, 1.80))"
   ]
  },
  {
   "cell_type": "code",
   "execution_count": null,
   "metadata": {},
   "outputs": [],
   "source": []
  }
 ],
 "metadata": {
  "kernelspec": {
   "display_name": "Python 3",
   "language": "python",
   "name": "python3"
  },
  "language_info": {
   "codemirror_mode": {
    "name": "ipython",
    "version": 3
   },
   "file_extension": ".py",
   "mimetype": "text/x-python",
   "name": "python",
   "nbconvert_exporter": "python",
   "pygments_lexer": "ipython3",
   "version": "3.6.5"
  }
 },
 "nbformat": 4,
 "nbformat_minor": 2
}
