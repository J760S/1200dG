{
 "cells": [
  {
   "cell_type": "code",
   "execution_count": 1,
   "metadata": {},
   "outputs": [
    {
     "name": "stdout",
     "output_type": "stream",
     "text": [
      "['value 1', 'key1', 'key2', 'value2', 'key3', 'value3', 'key4', 'key5']\n"
     ]
    }
   ],
   "source": [
    "d = {\"value 1\":[\"key1\", \"key2\"],\"value2\":[\"key3\"],\"value3\":[\"key4\", \"key5\"]}\n",
    "l=[]\n",
    "for value in list(d.keys()):\n",
    "    l.append(value)\n",
    "    for sub_value in d[value]:\n",
    "        l.append(sub_value)\n",
    "print(l)"
   ]
  },
  {
   "cell_type": "code",
   "execution_count": null,
   "metadata": {},
   "outputs": [],
   "source": []
  }
 ],
 "metadata": {
  "kernelspec": {
   "display_name": "Python 3",
   "language": "python",
   "name": "python3"
  },
  "language_info": {
   "codemirror_mode": {
    "name": "ipython",
    "version": 3
   },
   "file_extension": ".py",
   "mimetype": "text/x-python",
   "name": "python",
   "nbconvert_exporter": "python",
   "pygments_lexer": "ipython3",
   "version": "3.6.5"
  }
 },
 "nbformat": 4,
 "nbformat_minor": 2
}
