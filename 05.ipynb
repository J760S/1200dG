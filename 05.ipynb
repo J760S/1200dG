{
 "cells": [
  {
   "cell_type": "code",
   "execution_count": 1,
   "metadata": {},
   "outputs": [
    {
     "name": "stdout",
     "output_type": "stream",
     "text": [
      "It's a Human!\n"
     ]
    }
   ],
   "source": [
    "def animal_classifier(breath_air, has_wings, leg_count, barks, quacks):\n",
    "    \n",
    "    if(breath_air==\"yes\"):\n",
    "        if(has_wings ==\"yes\"):\n",
    "            return \"\\nIt's a bird!\"\n",
    "        else:\n",
    "            if leg_count==2:\n",
    "                if(quacks==\"yes\"):\n",
    "                    return 'It\\'s a Duck!'\n",
    "                else:\n",
    "                    return 'It\\'s a Human!'\n",
    "            elif leg_count==4:\n",
    "                if(barks==\"yes\"):\n",
    "                    return \"It's a dog!\"\n",
    "                else:\n",
    "                    return \"It's a cat!\"\n",
    "            else:\n",
    "                return \"No animals have\"+str(leg_count)+\", you lier\"\n",
    "    else:\n",
    "        return \"It's a fish!\"\n",
    "my_animal= animal_classifier(breath_air=\"yes\",\n",
    "                             has_wings=\"no\",\n",
    "                             leg_count=2,\n",
    "                             barks=\"no\",\n",
    "                             quacks=\"no\"\n",
    "                             )\n",
    "print(my_animal)\n"
   ]
  },
  {
   "cell_type": "code",
   "execution_count": null,
   "metadata": {},
   "outputs": [],
   "source": []
  }
 ],
 "metadata": {
  "kernelspec": {
   "display_name": "Python 3",
   "language": "python",
   "name": "python3"
  },
  "language_info": {
   "codemirror_mode": {
    "name": "ipython",
    "version": 3
   },
   "file_extension": ".py",
   "mimetype": "text/x-python",
   "name": "python",
   "nbconvert_exporter": "python",
   "pygments_lexer": "ipython3",
   "version": "3.6.5"
  }
 },
 "nbformat": 4,
 "nbformat_minor": 2
}
