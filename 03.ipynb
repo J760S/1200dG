{
 "cells": [
  {
   "cell_type": "code",
   "execution_count": 1,
   "metadata": {},
   "outputs": [
    {
     "name": "stdout",
     "output_type": "stream",
     "text": [
      "Choose one number: 3\n",
      "Choose another number: 4\n",
      "CHoose one process:\n",
      " 1. Summation;\n",
      " 2. Multiplication\n",
      "\t\tAnswer: 1\n",
      "\n",
      "The summation is:  7\n"
     ]
    }
   ],
   "source": [
    "r = int(input(\"Choose one number: \"))\n",
    "s = int(input(\"Choose another number: \"))\n",
    "f = str(input(\"CHoose one process:\"+\"\\n 1. Summation;\\n 2. Multiplication\\n\\t\\tAnswer: \"))\n",
    "if(f == \"1\"):\n",
    "    print(\"\\nThe summation is: \", r+s)\n",
    "elif(f == \"2\"):\n",
    "    print(\"\\nThe Multiplication is: \", r*s)\n",
    "else:\n",
    "    print(\"\\nTry Again\")\n",
    "    "
   ]
  },
  {
   "cell_type": "code",
   "execution_count": null,
   "metadata": {},
   "outputs": [],
   "source": []
  }
 ],
 "metadata": {
  "kernelspec": {
   "display_name": "Python 3",
   "language": "python",
   "name": "python3"
  },
  "language_info": {
   "codemirror_mode": {
    "name": "ipython",
    "version": 3
   },
   "file_extension": ".py",
   "mimetype": "text/x-python",
   "name": "python",
   "nbconvert_exporter": "python",
   "pygments_lexer": "ipython3",
   "version": "3.6.5"
  }
 },
 "nbformat": 4,
 "nbformat_minor": 2
}
