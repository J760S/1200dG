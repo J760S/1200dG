{
 "cells": [
  {
   "cell_type": "code",
   "execution_count": null,
   "metadata": {},
   "outputs": [],
   "source": [
    "from random import choice\n",
    "\n",
    "y = range(0, 6)\n",
    "\n",
    "x = input(\"Choose a Number between 0 and 5  [PRESS ENTER] \")\n",
    "\n",
    "cpu = choice(y)\n",
    "\n",
    "loop=0\n",
    "\n",
    "l = str(input(print(\"Is your number: \", cpu, \"?  [y/n]\")))\n",
    "\n",
    "while True:\n",
    "    \n",
    "    loop+=loop + 1\n",
    "    \n",
    "    if l==\"y\":\n",
    "        print(\"\\n\\tCPU correctly predicted your number. It needed\", loop , \"tries\")\n",
    "        break\n",
    "    if l == \"n\":\n",
    "        print(\"\\n\\tCPU is trying to predict your number...!\")\n",
    "        \n",
    "print(\"Number of tries: \", loop)        \n",
    "        \n",
    "        \n"
   ]
  }
 ],
 "metadata": {
  "kernelspec": {
   "display_name": "Python 3",
   "language": "python",
   "name": "python3"
  },
  "language_info": {
   "codemirror_mode": {
    "name": "ipython",
    "version": 3
   },
   "file_extension": ".py",
   "mimetype": "text/x-python",
   "name": "python",
   "nbconvert_exporter": "python",
   "pygments_lexer": "ipython3",
   "version": "3.6.5"
  }
 },
 "nbformat": 4,
 "nbformat_minor": 2
}
