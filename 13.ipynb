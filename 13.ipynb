{
 "cells": [
  {
   "cell_type": "code",
   "execution_count": 1,
   "metadata": {},
   "outputs": [
    {
     "name": "stdout",
     "output_type": "stream",
     "text": [
      "Choose one number from 1 to 9: \n",
      "\t\tAnswer: 4\n",
      "\tCPU have chosen 8\n",
      "\tWork harder ma friend\n"
     ]
    }
   ],
   "source": [
    "from random import choice\n",
    "\n",
    "y = [1,2,3,4,5,6,7,8,9]\n",
    "\n",
    "z = choice(y)\n",
    "\n",
    "x=int(input(\"Choose one number from 1 to 9: \\n\\t\\tAnswer: \"))\n",
    "print(\"\\tCPU have chosen\", z)\n",
    "if 2>abs(x-z):\n",
    "    print(\"\\tYou are close ma friend\")\n",
    "elif 2<=abs(x-z):\n",
    "    print(\"\\tWork harder ma friend\")\n",
    "elif abs(x-z)==0:\n",
    "    print(\"\\tYou nailed it!\")"
   ]
  },
  {
   "cell_type": "code",
   "execution_count": null,
   "metadata": {},
   "outputs": [],
   "source": []
  }
 ],
 "metadata": {
  "kernelspec": {
   "display_name": "Python 3",
   "language": "python",
   "name": "python3"
  },
  "language_info": {
   "codemirror_mode": {
    "name": "ipython",
    "version": 3
   },
   "file_extension": ".py",
   "mimetype": "text/x-python",
   "name": "python",
   "nbconvert_exporter": "python",
   "pygments_lexer": "ipython3",
   "version": "3.6.5"
  }
 },
 "nbformat": 4,
 "nbformat_minor": 2
}
