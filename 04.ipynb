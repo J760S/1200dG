{
 "cells": [
  {
   "cell_type": "code",
   "execution_count": 1,
   "metadata": {},
   "outputs": [
    {
     "name": "stdout",
     "output_type": "stream",
     "text": [
      "Pick an animal between dog, cat, fish, bird, human or duck.   [ENTER]dog\n",
      "Im going to predict which animal did you choose!     [ENTER]\n",
      "Does the animal breath?\n",
      "\tyes\n",
      "Does it have Wings?\n",
      "\tyes\n",
      "\n",
      "It's a bird!\n"
     ]
    }
   ],
   "source": [
    "r = input(\"Pick an animal between dog, cat, fish, bird, human or duck.   [ENTER]\")\n",
    "x = input(\"Im going to predict which animal did you choose!     [ENTER]\")\n",
    "s = str(input(\"Does the animal breath?\\n\\t\"))\n",
    "if(s==\"yes\"):\n",
    "    m = str(input(\"Does it have Wings?\\n\\t\"))\n",
    "    if(m ==\"yes\"):\n",
    "        print(\"\\nIt's a bird!\")\n",
    "    else:\n",
    "        y = int(input(\"How many legs does it have?\\n\\t\"))\n",
    "        if(y==2):\n",
    "            q = str(input(\"Does it quack?\\n\\t\"))\n",
    "            if(q==\"yes\"):\n",
    "                print(\"\\nIt's a Duck!\")\n",
    "            else:\n",
    "                print(\"\\nIt's a Human!\")\n",
    "        else:\n",
    "            d = str(input(\"Does it bark?\\n\\t\"))\n",
    "            if(d==\"yes\"):\n",
    "                print(\"\\nIt's a dog!\")\n",
    "            else:\n",
    "                print(\"\\nIt's a cat!\")\n",
    "else:\n",
    "    print(\"It's a fish!\")\n",
    "            \n",
    "                      "
   ]
  },
  {
   "cell_type": "code",
   "execution_count": null,
   "metadata": {},
   "outputs": [],
   "source": []
  }
 ],
 "metadata": {
  "kernelspec": {
   "display_name": "Python 3",
   "language": "python",
   "name": "python3"
  },
  "language_info": {
   "codemirror_mode": {
    "name": "ipython",
    "version": 3
   },
   "file_extension": ".py",
   "mimetype": "text/x-python",
   "name": "python",
   "nbconvert_exporter": "python",
   "pygments_lexer": "ipython3",
   "version": "3.6.5"
  }
 },
 "nbformat": 4,
 "nbformat_minor": 2
}
