{
 "cells": [
  {
   "cell_type": "code",
   "execution_count": 2,
   "metadata": {},
   "outputs": [
    {
     "name": "stdout",
     "output_type": "stream",
     "text": [
      "Choose a Number between 0 and 5  [PRESS ENTER] \n",
      "Is your number: 1?  [y/n]n\n",
      "\n",
      "\tCPU is trying to predict your number...!\n",
      "Is your number: 1?  [y/n]n\n",
      "\n",
      "\tCPU is trying to predict your number...!\n",
      "Is your number: 4?  [y/n]y\n",
      "\n",
      "\tCPU correctly predicted your number. It needed 3 tries\n",
      "Number of tries:  3\n"
     ]
    }
   ],
   "source": [
    "from random import choice\n",
    "\n",
    "y = range(0, 6)\n",
    "\n",
    "x = input(\"Choose a Number between 0 and 5  [PRESS ENTER] \")\n",
    "\n",
    "loop=0\n",
    "\n",
    "while True:\n",
    "    cpu = choice(y)\n",
    "    \n",
    "    l = str(input(\"Is your number: \"+str(cpu)+\"?  [y/n]\")) \n",
    "    \n",
    "    loop+= 1\n",
    "    \n",
    "    if l==\"y\":\n",
    "        print(\"\\n\\tCPU correctly predicted your number. It needed\", loop , \"tries\")\n",
    "        break\n",
    "    if l == \"n\":\n",
    "        print(\"\\n\\tCPU is trying to predict your number...!\")\n",
    "        \n",
    "print(\"Number of tries: \", loop)        \n",
    "        "
   ]
  },
  {
   "cell_type": "code",
   "execution_count": null,
   "metadata": {},
   "outputs": [],
   "source": []
  }
 ],
 "metadata": {
  "kernelspec": {
   "display_name": "Python 3",
   "language": "python",
   "name": "python3"
  },
  "language_info": {
   "codemirror_mode": {
    "name": "ipython",
    "version": 3
   },
   "file_extension": ".py",
   "mimetype": "text/x-python",
   "name": "python",
   "nbconvert_exporter": "python",
   "pygments_lexer": "ipython3",
   "version": "3.6.5"
  }
 },
 "nbformat": 4,
 "nbformat_minor": 2
}
